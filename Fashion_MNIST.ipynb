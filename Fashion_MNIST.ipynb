{
  "nbformat": 4,
  "nbformat_minor": 0,
  "metadata": {
    "colab": {
      "name": "Fashion MNIST.ipynb",
      "provenance": []
    },
    "kernelspec": {
      "name": "python3",
      "display_name": "Python 3"
    },
    "language_info": {
      "name": "python"
    }
  },
  "cells": [
    {
      "cell_type": "code",
      "metadata": {
        "id": "hArPiUNaS5V0"
      },
      "source": [
        "import tensorflow as tf\n"
      ],
      "execution_count": 1,
      "outputs": []
    },
    {
      "cell_type": "code",
      "metadata": {
        "id": "WTrScSvd2gP8"
      },
      "source": [
        "mnist = tf.keras.datasets.fashion_mnist"
      ],
      "execution_count": 2,
      "outputs": []
    },
    {
      "cell_type": "code",
      "metadata": {
        "id": "ET7eXNfA2meJ",
        "colab": {
          "base_uri": "https://localhost:8080/"
        },
        "outputId": "ea67fd5a-edef-4b71-8a9c-67875bac2a8a"
      },
      "source": [
        "(training_images, training_labels),(test_images,test_labels)=mnist.load_data()"
      ],
      "execution_count": 3,
      "outputs": [
        {
          "output_type": "stream",
          "name": "stdout",
          "text": [
            "Downloading data from https://storage.googleapis.com/tensorflow/tf-keras-datasets/train-labels-idx1-ubyte.gz\n",
            "32768/29515 [=================================] - 0s 0us/step\n",
            "40960/29515 [=========================================] - 0s 0us/step\n",
            "Downloading data from https://storage.googleapis.com/tensorflow/tf-keras-datasets/train-images-idx3-ubyte.gz\n",
            "26427392/26421880 [==============================] - 0s 0us/step\n",
            "26435584/26421880 [==============================] - 0s 0us/step\n",
            "Downloading data from https://storage.googleapis.com/tensorflow/tf-keras-datasets/t10k-labels-idx1-ubyte.gz\n",
            "16384/5148 [===============================================================================================] - 0s 0us/step\n",
            "Downloading data from https://storage.googleapis.com/tensorflow/tf-keras-datasets/t10k-images-idx3-ubyte.gz\n",
            "4423680/4422102 [==============================] - 0s 0us/step\n",
            "4431872/4422102 [==============================] - 0s 0us/step\n"
          ]
        }
      ]
    },
    {
      "cell_type": "code",
      "metadata": {
        "colab": {
          "base_uri": "https://localhost:8080/",
          "height": 780
        },
        "id": "Du-f9-TE3NXQ",
        "outputId": "5569d0f4-4850-451e-9fc4-6a7f8e8c5374"
      },
      "source": [
        "import numpy as np\n",
        "np.set_printoptions(linewidth=200)\n",
        "import matplotlib.pyplot as plt\n",
        "plt.imshow(training_images[0])\n",
        "print(training_labels[0])\n",
        "print(training_images[0])"
      ],
      "execution_count": 4,
      "outputs": [
        {
          "output_type": "stream",
          "name": "stdout",
          "text": [
            "9\n",
            "[[  0   0   0   0   0   0   0   0   0   0   0   0   0   0   0   0   0   0   0   0   0   0   0   0   0   0   0   0]\n",
            " [  0   0   0   0   0   0   0   0   0   0   0   0   0   0   0   0   0   0   0   0   0   0   0   0   0   0   0   0]\n",
            " [  0   0   0   0   0   0   0   0   0   0   0   0   0   0   0   0   0   0   0   0   0   0   0   0   0   0   0   0]\n",
            " [  0   0   0   0   0   0   0   0   0   0   0   0   1   0   0  13  73   0   0   1   4   0   0   0   0   1   1   0]\n",
            " [  0   0   0   0   0   0   0   0   0   0   0   0   3   0  36 136 127  62  54   0   0   0   1   3   4   0   0   3]\n",
            " [  0   0   0   0   0   0   0   0   0   0   0   0   6   0 102 204 176 134 144 123  23   0   0   0   0  12  10   0]\n",
            " [  0   0   0   0   0   0   0   0   0   0   0   0   0   0 155 236 207 178 107 156 161 109  64  23  77 130  72  15]\n",
            " [  0   0   0   0   0   0   0   0   0   0   0   1   0  69 207 223 218 216 216 163 127 121 122 146 141  88 172  66]\n",
            " [  0   0   0   0   0   0   0   0   0   1   1   1   0 200 232 232 233 229 223 223 215 213 164 127 123 196 229   0]\n",
            " [  0   0   0   0   0   0   0   0   0   0   0   0   0 183 225 216 223 228 235 227 224 222 224 221 223 245 173   0]\n",
            " [  0   0   0   0   0   0   0   0   0   0   0   0   0 193 228 218 213 198 180 212 210 211 213 223 220 243 202   0]\n",
            " [  0   0   0   0   0   0   0   0   0   1   3   0  12 219 220 212 218 192 169 227 208 218 224 212 226 197 209  52]\n",
            " [  0   0   0   0   0   0   0   0   0   0   6   0  99 244 222 220 218 203 198 221 215 213 222 220 245 119 167  56]\n",
            " [  0   0   0   0   0   0   0   0   0   4   0   0  55 236 228 230 228 240 232 213 218 223 234 217 217 209  92   0]\n",
            " [  0   0   1   4   6   7   2   0   0   0   0   0 237 226 217 223 222 219 222 221 216 223 229 215 218 255  77   0]\n",
            " [  0   3   0   0   0   0   0   0   0  62 145 204 228 207 213 221 218 208 211 218 224 223 219 215 224 244 159   0]\n",
            " [  0   0   0   0  18  44  82 107 189 228 220 222 217 226 200 205 211 230 224 234 176 188 250 248 233 238 215   0]\n",
            " [  0  57 187 208 224 221 224 208 204 214 208 209 200 159 245 193 206 223 255 255 221 234 221 211 220 232 246   0]\n",
            " [  3 202 228 224 221 211 211 214 205 205 205 220 240  80 150 255 229 221 188 154 191 210 204 209 222 228 225   0]\n",
            " [ 98 233 198 210 222 229 229 234 249 220 194 215 217 241  65  73 106 117 168 219 221 215 217 223 223 224 229  29]\n",
            " [ 75 204 212 204 193 205 211 225 216 185 197 206 198 213 240 195 227 245 239 223 218 212 209 222 220 221 230  67]\n",
            " [ 48 203 183 194 213 197 185 190 194 192 202 214 219 221 220 236 225 216 199 206 186 181 177 172 181 205 206 115]\n",
            " [  0 122 219 193 179 171 183 196 204 210 213 207 211 210 200 196 194 191 195 191 198 192 176 156 167 177 210  92]\n",
            " [  0   0  74 189 212 191 175 172 175 181 185 188 189 188 193 198 204 209 210 210 211 188 188 194 192 216 170   0]\n",
            " [  2   0   0   0  66 200 222 237 239 242 246 243 244 221 220 193 191 179 182 182 181 176 166 168  99  58   0   0]\n",
            " [  0   0   0   0   0   0   0  40  61  44  72  41  35   0   0   0   0   0   0   0   0   0   0   0   0   0   0   0]\n",
            " [  0   0   0   0   0   0   0   0   0   0   0   0   0   0   0   0   0   0   0   0   0   0   0   0   0   0   0   0]\n",
            " [  0   0   0   0   0   0   0   0   0   0   0   0   0   0   0   0   0   0   0   0   0   0   0   0   0   0   0   0]]\n"
          ]
        },
        {
          "output_type": "display_data",
          "data": {
            "image/png": "[encoded data removed]",
            "text/plain": [
              "<Figure size 432x288 with 1 Axes>"
            ]
          },
          "metadata": {
            "needs_background": "light"
          }
        }
      ]
    },
    {
      "cell_type": "code",
      "metadata": {
        "colab": {
          "base_uri": "https://localhost:8080/",
          "height": 780
        },
        "id": "HpgvYS-25J1K",
        "outputId": "1be472ff-25e7-42a0-e756-16287ccd952e"
      },
      "source": [
        "plt.imshow(training_images[34])\n",
        "print(training_images[34])\n",
        "print(training_labels[34])"
      ],
      "execution_count": 5,
      "outputs": [
        {
          "output_type": "stream",
          "name": "stdout",
          "text": [
            "[[  0   0   0   0   0   0   0   0   0  42 110   1   0   0   0   0   0 156  21   0   0   0   0   0   0   0   0   0]\n",
            " [  0   0   0   0   0   1  32  56  40  21 195 170 173 193 183 183 243 135   3  40  44  40   1   0   0   0   0   0]\n",
            " [  0   0   0   0   0  48  50  25   7   1   1  38 173 255 220 154  23   0   0   0  13  32  52   0   0   0   0   0]\n",
            " [  0   0   0   0  25  38  25  19  13  17   0   0   0   0   0   0   0   7  11  11  13  19  34  32   0   0   0   0]\n",
            " [  0   0   0   5  65  25  46  27   9  11  13   3   0   0   0   5   3   0   0   5  15  27  27  50  23   0   0   0]\n",
            " [  0   0   0  28  46  42  32  46   1   0   0   0   0   0   3   0   1  27   9   1  13  28  46  42  38   0   0   0]\n",
            " [  0   0   0  59  25  50  54   9  94 160  98  75  81 108 131  92  61  79 129 148  63  46  61  27  50   0   0   0]\n",
            " [  0   0   0  15  40  46  75  44  32  32   1 127 133  25 173  46 137 110   5   7  50  65  56  40  30   0   0   0]\n",
            " [  0   0   0   0  13  52  81  59  36   0   0  32 106   7  86  23  13  11   0  13  67 129  71  17   0   0   0   0]\n",
            " [  0   0   0   0   0  25 123  96  77  42  32  13   1   5   1  13  27  28  21  57  56  46  19   0   0   0   0   0]\n",
            " [  0   0   0   0   0   0   0  79 112  73  59  44  27  32  32  48  48  46  54  67  34   0   0   0   0   0   0   0]\n",
            " [  0   0   0   0   0   0   0  56 119  54  44  46  40  36  36  36  38  36  65  71  21   0   1   0   0   0   0   0]\n",
            " [  0   0   0   0   0   0   0  36 112  50  44  46  40  42  42  40  38  36  52  90  21   0   1   0   0   0   0   0]\n",
            " [  0   0   0   0   0   1   0  23 102  54  50  42  32  38  42  42  42  36  38  96  17   0   1   0   0   0   0   0]\n",
            " [  0   0   0   0   0   1   0  17  94  52  56  48  40  42  42  42  44  42  38  83  11   0   1   0   0   0   0   0]\n",
            " [  0   0   0   0   0   1   0  15  94  54  54  54  50  44  44  44  46  36  42  77  21   0   0   0   0   0   0   0]\n",
            " [  0   0   0   0   0   1   0  11  88  57  50  52  48  44  44  44  46  40  36  69  48   0   0   0   0   0   0   0]\n",
            " [  0   0   0   0   0   0   0  27  83  56  46  50  50  44  44  44  46  40  27  57  63   0   0   0   0   0   0   0]\n",
            " [  0   0   0   0   0   0   0  48  75  54  42  50  50  44  44  44  44  44  50  48  69   3   0   3   0   0   0   0]\n",
            " [  0   0   0   0   0   0   0  57  67  52  44  46  48  46  44  44  40  40  48  27  61  30   0   1   0   0   0   0]\n",
            " [  0   0   0   0   0   0   0  71  56  48  48  46  50  48  44  44  42  42  46  40  56  50   0   0   0   0   0   0]\n",
            " [  0   0   0   0   0   0   0  71  54  50  50  46  52  46  44  46  48  40  40  50  38  48   0   0   0   0   0   0]\n",
            " [  0   0   0   0   0   0   7  71  57  54  50  48  54  46  44  48  50  48  40  44  44  57   1   0   0   0   0   0]\n",
            " [  0   0   0   0   0   0  25  71  40  52  56  46  48  48  50  42  48  52  44  44  46  52   0   0   0   0   0   0]\n",
            " [  0   0   0   0   0   0  34  65  54  48  52  46  50  48  46  44  46  54  50  48  52  61   5   0   0   0   0   0]\n",
            " [  0   0   0   0   0   0  38  56  50  46  48  46  52  48  38  46  42  52  46  46  48  57  19   0   0   0   0   0]\n",
            " [  0   0   0   0   0   0  57  57  50  52  48  44  50  46  38  46  44  50  52  52  50  57  30   0   0   0   0   0]\n",
            " [  0   0   0   0   0   0  30  30  36  42  42  42  57  57  54  52  50  42  46  32  19  23  13   0   0   0   0   0]]\n",
            "0\n"
          ]
        },
        {
          "output_type": "display_data",
          "data": {
            "image/png": "[encoded data removed]",
            "text/plain": [
              "<Figure size 432x288 with 1 Axes>"
            ]
          },
          "metadata": {
            "needs_background": "light"
          }
        }
      ]
    },
    {
      "cell_type": "code",
      "metadata": {
        "id": "yvqd-AVT6DwQ"
      },
      "source": [
        "training_images= training_images/255.0\n",
        "test_images= test_images/255.0"
      ],
      "execution_count": 6,
      "outputs": []
    },
    {
      "cell_type": "code",
      "metadata": {
        "id": "_NUpslDM6bqY"
      },
      "source": [
        "model = tf.keras.models.Sequential([tf.keras.layers.Flatten(),\n",
        "                                    tf.keras.layers.Dense(128,activation=tf.nn.relu),\n",
        "                                    tf.keras.layers.Dense(10,activation=tf.nn.softmax)])"
      ],
      "execution_count": 7,
      "outputs": []
    },
    {
      "cell_type": "code",
      "metadata": {
        "colab": {
          "base_uri": "https://localhost:8080/"
        },
        "id": "eNTgxlf0--3R",
        "outputId": "da110600-186b-45b9-f283-78c396b7d502"
      },
      "source": [
        "model.compile(optimizer = tf.optimizers.Adam(),\n",
        "              loss = 'sparse_categorical_crossentropy',\n",
        "              metrics=['accuracy'])\n",
        "\n",
        "model.fit(training_images, training_labels, epochs=95)"
      ],
      "execution_count": 8,
      "outputs": [
        {
          "output_type": "stream",
          "name": "stdout",
          "text": [
            "Epoch 1/95\n",
            "1875/1875 [==============================] - 6s 3ms/step - loss: 0.5010 - accuracy: 0.8249\n",
            "Epoch 2/95\n",
            "1875/1875 [==============================] - 5s 2ms/step - loss: 0.3768 - accuracy: 0.8654\n",
            "Epoch 3/95\n",
            "1875/1875 [==============================] - 4s 2ms/step - loss: 0.3362 - accuracy: 0.8774\n",
            "Epoch 4/95\n",
            "1875/1875 [==============================] - 5s 2ms/step - loss: 0.3134 - accuracy: 0.8854\n",
            "Epoch 5/95\n",
            "1875/1875 [==============================] - 5s 2ms/step - loss: 0.2967 - accuracy: 0.8911\n",
            "Epoch 6/95\n",
            "1875/1875 [==============================] - 4s 2ms/step - loss: 0.2816 - accuracy: 0.8951\n",
            "Epoch 7/95\n",
            "1875/1875 [==============================] - 4s 2ms/step - loss: 0.2704 - accuracy: 0.8994\n",
            "Epoch 8/95\n",
            "1875/1875 [==============================] - 4s 2ms/step - loss: 0.2599 - accuracy: 0.9035\n",
            "Epoch 9/95\n",
            "1875/1875 [==============================] - 4s 2ms/step - loss: 0.2491 - accuracy: 0.9080\n",
            "Epoch 10/95\n",
            "1875/1875 [==============================] - 4s 2ms/step - loss: 0.2407 - accuracy: 0.9102\n",
            "Epoch 11/95\n",
            "1875/1875 [==============================] - 4s 2ms/step - loss: 0.2332 - accuracy: 0.9136\n",
            "Epoch 12/95\n",
            "1875/1875 [==============================] - 4s 2ms/step - loss: 0.2258 - accuracy: 0.9161\n",
            "Epoch 13/95\n",
            "1875/1875 [==============================] - 4s 2ms/step - loss: 0.2189 - accuracy: 0.9179\n",
            "Epoch 14/95\n",
            "1875/1875 [==============================] - 5s 2ms/step - loss: 0.2122 - accuracy: 0.9201\n",
            "Epoch 15/95\n",
            "1875/1875 [==============================] - 5s 3ms/step - loss: 0.2067 - accuracy: 0.9225\n",
            "Epoch 16/95\n",
            "1875/1875 [==============================] - 5s 3ms/step - loss: 0.1989 - accuracy: 0.9244\n",
            "Epoch 17/95\n",
            "1875/1875 [==============================] - 5s 2ms/step - loss: 0.1954 - accuracy: 0.9254\n",
            "Epoch 18/95\n",
            "1875/1875 [==============================] - 5s 2ms/step - loss: 0.1898 - accuracy: 0.9283\n",
            "Epoch 19/95\n",
            "1875/1875 [==============================] - 5s 2ms/step - loss: 0.1847 - accuracy: 0.9308\n",
            "Epoch 20/95\n",
            "1875/1875 [==============================] - 5s 2ms/step - loss: 0.1812 - accuracy: 0.9322\n",
            "Epoch 21/95\n",
            "1875/1875 [==============================] - 5s 2ms/step - loss: 0.1754 - accuracy: 0.9342\n",
            "Epoch 22/95\n",
            "1875/1875 [==============================] - 5s 2ms/step - loss: 0.1711 - accuracy: 0.9354\n",
            "Epoch 23/95\n",
            "1875/1875 [==============================] - 5s 2ms/step - loss: 0.1665 - accuracy: 0.9375\n",
            "Epoch 24/95\n",
            "1875/1875 [==============================] - 4s 2ms/step - loss: 0.1634 - accuracy: 0.9386\n",
            "Epoch 25/95\n",
            "1875/1875 [==============================] - 5s 2ms/step - loss: 0.1609 - accuracy: 0.9400\n",
            "Epoch 26/95\n",
            "1875/1875 [==============================] - 5s 2ms/step - loss: 0.1561 - accuracy: 0.9412\n",
            "Epoch 27/95\n",
            "1875/1875 [==============================] - 4s 2ms/step - loss: 0.1525 - accuracy: 0.9423\n",
            "Epoch 28/95\n",
            "1875/1875 [==============================] - 4s 2ms/step - loss: 0.1480 - accuracy: 0.9436\n",
            "Epoch 29/95\n",
            "1875/1875 [==============================] - 4s 2ms/step - loss: 0.1465 - accuracy: 0.9454\n",
            "Epoch 30/95\n",
            "1875/1875 [==============================] - 5s 2ms/step - loss: 0.1448 - accuracy: 0.9457\n",
            "Epoch 31/95\n",
            "1875/1875 [==============================] - 5s 2ms/step - loss: 0.1410 - accuracy: 0.9470\n",
            "Epoch 32/95\n",
            "1875/1875 [==============================] - 5s 2ms/step - loss: 0.1384 - accuracy: 0.9477\n",
            "Epoch 33/95\n",
            "1875/1875 [==============================] - 5s 2ms/step - loss: 0.1360 - accuracy: 0.9475\n",
            "Epoch 34/95\n",
            "1875/1875 [==============================] - 5s 2ms/step - loss: 0.1318 - accuracy: 0.9505\n",
            "Epoch 35/95\n",
            "1875/1875 [==============================] - 5s 2ms/step - loss: 0.1309 - accuracy: 0.9505\n",
            "Epoch 36/95\n",
            "1875/1875 [==============================] - 4s 2ms/step - loss: 0.1271 - accuracy: 0.9520\n",
            "Epoch 37/95\n",
            "1875/1875 [==============================] - 4s 2ms/step - loss: 0.1248 - accuracy: 0.9530\n",
            "Epoch 38/95\n",
            "1875/1875 [==============================] - 4s 2ms/step - loss: 0.1234 - accuracy: 0.9535\n",
            "Epoch 39/95\n",
            "1875/1875 [==============================] - 4s 2ms/step - loss: 0.1203 - accuracy: 0.9542\n",
            "Epoch 40/95\n",
            "1875/1875 [==============================] - 4s 2ms/step - loss: 0.1177 - accuracy: 0.9555\n",
            "Epoch 41/95\n",
            "1875/1875 [==============================] - 5s 2ms/step - loss: 0.1183 - accuracy: 0.9559\n",
            "Epoch 42/95\n",
            "1875/1875 [==============================] - 5s 3ms/step - loss: 0.1140 - accuracy: 0.9571\n",
            "Epoch 43/95\n",
            "1875/1875 [==============================] - 5s 2ms/step - loss: 0.1121 - accuracy: 0.9572\n",
            "Epoch 44/95\n",
            "1875/1875 [==============================] - 4s 2ms/step - loss: 0.1096 - accuracy: 0.9590\n",
            "Epoch 45/95\n",
            "1875/1875 [==============================] - 4s 2ms/step - loss: 0.1090 - accuracy: 0.9582\n",
            "Epoch 46/95\n",
            "1875/1875 [==============================] - 4s 2ms/step - loss: 0.1055 - accuracy: 0.9607\n",
            "Epoch 47/95\n",
            "1875/1875 [==============================] - 4s 2ms/step - loss: 0.1050 - accuracy: 0.9604\n",
            "Epoch 48/95\n",
            "1875/1875 [==============================] - 4s 2ms/step - loss: 0.1049 - accuracy: 0.9609\n",
            "Epoch 49/95\n",
            "1875/1875 [==============================] - 4s 2ms/step - loss: 0.1013 - accuracy: 0.9618\n",
            "Epoch 50/95\n",
            "1875/1875 [==============================] - 4s 2ms/step - loss: 0.1009 - accuracy: 0.9620\n",
            "Epoch 51/95\n",
            "1875/1875 [==============================] - 4s 2ms/step - loss: 0.0983 - accuracy: 0.9632\n",
            "Epoch 52/95\n",
            "1875/1875 [==============================] - 4s 2ms/step - loss: 0.0947 - accuracy: 0.9649\n",
            "Epoch 53/95\n",
            "1875/1875 [==============================] - 4s 2ms/step - loss: 0.0970 - accuracy: 0.9635\n",
            "Epoch 54/95\n",
            "1875/1875 [==============================] - 4s 2ms/step - loss: 0.0949 - accuracy: 0.9639\n",
            "Epoch 55/95\n",
            "1875/1875 [==============================] - 4s 2ms/step - loss: 0.0924 - accuracy: 0.9657\n",
            "Epoch 56/95\n",
            "1875/1875 [==============================] - 4s 2ms/step - loss: 0.0934 - accuracy: 0.9647\n",
            "Epoch 57/95\n",
            "1875/1875 [==============================] - 4s 2ms/step - loss: 0.0891 - accuracy: 0.9664\n",
            "Epoch 58/95\n",
            "1875/1875 [==============================] - 4s 2ms/step - loss: 0.0878 - accuracy: 0.9675\n",
            "Epoch 59/95\n",
            "1875/1875 [==============================] - 4s 2ms/step - loss: 0.0861 - accuracy: 0.9680\n",
            "Epoch 60/95\n",
            "1875/1875 [==============================] - 4s 2ms/step - loss: 0.0882 - accuracy: 0.9663\n",
            "Epoch 61/95\n",
            "1875/1875 [==============================] - 4s 2ms/step - loss: 0.0832 - accuracy: 0.9691\n",
            "Epoch 62/95\n",
            "1875/1875 [==============================] - 4s 2ms/step - loss: 0.0855 - accuracy: 0.9683\n",
            "Epoch 63/95\n",
            "1875/1875 [==============================] - 4s 2ms/step - loss: 0.0814 - accuracy: 0.9692\n",
            "Epoch 64/95\n",
            "1875/1875 [==============================] - 4s 2ms/step - loss: 0.0811 - accuracy: 0.9697\n",
            "Epoch 65/95\n",
            "1875/1875 [==============================] - 4s 2ms/step - loss: 0.0814 - accuracy: 0.9699\n",
            "Epoch 66/95\n",
            "1875/1875 [==============================] - 4s 2ms/step - loss: 0.0796 - accuracy: 0.9702\n",
            "Epoch 67/95\n",
            "1875/1875 [==============================] - 4s 2ms/step - loss: 0.0811 - accuracy: 0.9698\n",
            "Epoch 68/95\n",
            "1875/1875 [==============================] - 4s 2ms/step - loss: 0.0773 - accuracy: 0.9715\n",
            "Epoch 69/95\n",
            "1875/1875 [==============================] - 4s 2ms/step - loss: 0.0746 - accuracy: 0.9722\n",
            "Epoch 70/95\n",
            "1875/1875 [==============================] - 4s 2ms/step - loss: 0.0761 - accuracy: 0.9716\n",
            "Epoch 71/95\n",
            "1875/1875 [==============================] - 4s 2ms/step - loss: 0.0738 - accuracy: 0.9722\n",
            "Epoch 72/95\n",
            "1875/1875 [==============================] - 4s 2ms/step - loss: 0.0730 - accuracy: 0.9724\n",
            "Epoch 73/95\n",
            "1875/1875 [==============================] - 4s 2ms/step - loss: 0.0738 - accuracy: 0.9721\n",
            "Epoch 74/95\n",
            "1875/1875 [==============================] - 4s 2ms/step - loss: 0.0705 - accuracy: 0.9737\n",
            "Epoch 75/95\n",
            "1875/1875 [==============================] - 4s 2ms/step - loss: 0.0724 - accuracy: 0.9730\n",
            "Epoch 76/95\n",
            "1875/1875 [==============================] - 4s 2ms/step - loss: 0.0704 - accuracy: 0.9739\n",
            "Epoch 77/95\n",
            "1875/1875 [==============================] - 4s 2ms/step - loss: 0.0711 - accuracy: 0.9733\n",
            "Epoch 78/95\n",
            "1875/1875 [==============================] - 4s 2ms/step - loss: 0.0685 - accuracy: 0.9736\n",
            "Epoch 79/95\n",
            "1875/1875 [==============================] - 4s 2ms/step - loss: 0.0674 - accuracy: 0.9750\n",
            "Epoch 80/95\n",
            "1875/1875 [==============================] - 4s 2ms/step - loss: 0.0655 - accuracy: 0.9748\n",
            "Epoch 81/95\n",
            "1875/1875 [==============================] - 4s 2ms/step - loss: 0.0661 - accuracy: 0.9750\n",
            "Epoch 82/95\n",
            "1875/1875 [==============================] - 4s 2ms/step - loss: 0.0673 - accuracy: 0.9752\n",
            "Epoch 83/95\n",
            "1875/1875 [==============================] - 4s 2ms/step - loss: 0.0632 - accuracy: 0.9769\n",
            "Epoch 84/95\n",
            "1875/1875 [==============================] - 4s 2ms/step - loss: 0.0629 - accuracy: 0.9764\n",
            "Epoch 85/95\n",
            "1875/1875 [==============================] - 4s 2ms/step - loss: 0.0636 - accuracy: 0.9763\n",
            "Epoch 86/95\n",
            "1875/1875 [==============================] - 4s 2ms/step - loss: 0.0618 - accuracy: 0.9773\n",
            "Epoch 87/95\n",
            "1875/1875 [==============================] - 4s 2ms/step - loss: 0.0628 - accuracy: 0.9765\n",
            "Epoch 88/95\n",
            "1875/1875 [==============================] - 4s 2ms/step - loss: 0.0604 - accuracy: 0.9776\n",
            "Epoch 89/95\n",
            "1875/1875 [==============================] - 4s 2ms/step - loss: 0.0599 - accuracy: 0.9775\n",
            "Epoch 90/95\n",
            "1875/1875 [==============================] - 4s 2ms/step - loss: 0.0617 - accuracy: 0.9765\n",
            "Epoch 91/95\n",
            "1875/1875 [==============================] - 4s 2ms/step - loss: 0.0587 - accuracy: 0.9782\n",
            "Epoch 92/95\n",
            "1875/1875 [==============================] - 4s 2ms/step - loss: 0.0573 - accuracy: 0.9782\n",
            "Epoch 93/95\n",
            "1875/1875 [==============================] - 4s 2ms/step - loss: 0.0589 - accuracy: 0.9781\n",
            "Epoch 94/95\n",
            "1875/1875 [==============================] - 4s 2ms/step - loss: 0.0579 - accuracy: 0.9785\n",
            "Epoch 95/95\n",
            "1875/1875 [==============================] - 4s 2ms/step - loss: 0.0551 - accuracy: 0.9795\n"
          ]
        },
        {
          "output_type": "execute_result",
          "data": {
            "text/plain": [
              "<keras.callbacks.History at 0x7f614cc15e10>"
            ]
          },
          "metadata": {},
          "execution_count": 8
        }
      ]
    },
    {
      "cell_type": "code",
      "metadata": {
        "colab": {
          "base_uri": "https://localhost:8080/"
        },
        "id": "H9-2vaG3BOLJ",
        "outputId": "4f4d6314-dfc8-472c-eca5-fb359e99c2d4"
      },
      "source": [
        "model.evaluate(test_images,test_labels)"
      ],
      "execution_count": 9,
      "outputs": [
        {
          "output_type": "stream",
          "name": "stdout",
          "text": [
            "313/313 [==============================] - 1s 1ms/step - loss: 0.7170 - accuracy: 0.8930\n"
          ]
        },
        {
          "output_type": "execute_result",
          "data": {
            "text/plain": [
              "[0.717032253742218, 0.8930000066757202]"
            ]
          },
          "metadata": {},
          "execution_count": 9
        }
      ]
    },
    {
      "cell_type": "code",
      "metadata": {
        "colab": {
          "base_uri": "https://localhost:8080/"
        },
        "id": "XbclfY0eFZry",
        "outputId": "d391dcc7-ff01-4037-f66a-273067cb0e5d"
      },
      "source": [
        "mnist = tf.keras.datasets.mnist\n",
        "(training_images, training_labels),(test_images,test_labels)= mnist.load_data()\n",
        "training_images= training_images/255.0\n",
        "test_images= test_images/255.0\n",
        "model = tf.keras.Sequential([tf.keras.layers.Flatten(),\n",
        "                             tf.keras.layers.Dense(1024, activation=tf.nn.relu),\n",
        "                             tf.keras.layers.Dense(10, activation= tf.nn.softmax)])\n",
        "model.compile(optimizer='adam', loss = 'sparse_categorical_crossentropy')\n",
        "model.fit(training_images, training_labels,epochs=5)\n",
        "model.evaluate(test_images, test_labels)\n",
        "classifications = model.predict(test_images)\n",
        "print(classifications[0])\n",
        "print(test_labels[0])"
      ],
      "execution_count": 10,
      "outputs": [
        {
          "output_type": "stream",
          "name": "stdout",
          "text": [
            "Downloading data from https://storage.googleapis.com/tensorflow/tf-keras-datasets/mnist.npz\n",
            "11493376/11490434 [==============================] - 0s 0us/step\n",
            "11501568/11490434 [==============================] - 0s 0us/step\n",
            "Epoch 1/5\n",
            "1875/1875 [==============================] - 15s 8ms/step - loss: 0.1858\n",
            "Epoch 2/5\n",
            "1875/1875 [==============================] - 14s 8ms/step - loss: 0.0740\n",
            "Epoch 3/5\n",
            "1875/1875 [==============================] - 14s 8ms/step - loss: 0.0493\n",
            "Epoch 4/5\n",
            "1875/1875 [==============================] - 15s 8ms/step - loss: 0.0352\n",
            "Epoch 5/5\n",
            "1875/1875 [==============================] - 14s 8ms/step - loss: 0.0272\n",
            "313/313 [==============================] - 1s 4ms/step - loss: 0.0818\n",
            "[6.6295872e-11 2.1972890e-10 1.2483757e-08 1.5501132e-07 5.9972856e-12 2.8013349e-11 3.5238437e-14 9.9999988e-01 4.3597279e-12 2.2317106e-08]\n",
            "7\n"
          ]
        }
      ]
    },
    {
      "cell_type": "code",
      "metadata": {
        "colab": {
          "base_uri": "https://localhost:8080/"
        },
        "id": "lpp8Ssx8KnDr",
        "outputId": "220d554c-f987-4293-9c38-f5bafeb5da9f"
      },
      "source": [
        "class myCallback(tf.keras.callbacks.Callback):\n",
        "  def on_epoch_end(self, epoch, logs={}):\n",
        "    if(logs.get('accuracy') >= 0.6): # Experiment with changing this value\n",
        "      print(\"\\nReached 60% accuracy so cancelling training!\")\n",
        "      self.model.stop_training = True\n",
        "\n",
        "callbacks = myCallback()\n",
        "mnist = tf.keras.datasets.fashion_mnist\n",
        "(training_images, training_labels), (test_images, test_labels) = mnist.load_data()\n",
        "training_images=training_images/255.0\n",
        "test_images=test_images/255.0\n",
        "model = tf.keras.models.Sequential([\n",
        "  tf.keras.layers.Flatten(),\n",
        "  tf.keras.layers.Dense(512, activation=tf.nn.relu),\n",
        "  tf.keras.layers.Dense(10, activation=tf.nn.softmax)\n",
        "])\n",
        "model.compile(optimizer='adam', loss='sparse_categorical_crossentropy', metrics=['accuracy'])\n",
        "model.fit(training_images, training_labels, epochs=5, callbacks=[callbacks])"
      ],
      "execution_count": 11,
      "outputs": [
        {
          "output_type": "stream",
          "name": "stdout",
          "text": [
            "Epoch 1/5\n",
            "1875/1875 [==============================] - 9s 5ms/step - loss: 0.4740 - accuracy: 0.8299\n",
            "\n",
            "Reached 60% accuracy so cancelling training!\n"
          ]
        },
        {
          "output_type": "execute_result",
          "data": {
            "text/plain": [
              "<keras.callbacks.History at 0x7f614550aad0>"
            ]
          },
          "metadata": {},
          "execution_count": 11
        }
      ]
    }
  ]
}